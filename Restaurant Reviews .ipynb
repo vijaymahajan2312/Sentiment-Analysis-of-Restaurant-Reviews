{
 "cells": [
  {
   "cell_type": "markdown",
   "id": "63b00506",
   "metadata": {},
   "source": [
    "# Read Dataset"
   ]
  },
  {
   "cell_type": "code",
   "execution_count": 1,
   "id": "6133e15e",
   "metadata": {},
   "outputs": [],
   "source": [
    "import pandas as pd\n",
    "A = pd.read_csv(\"C:/Documents/DataScience/Restaurant_Reviews.tsv\", sep=\"\\t\")"
   ]
  },
  {
   "cell_type": "code",
   "execution_count": 2,
   "id": "1a8b94dc",
   "metadata": {},
   "outputs": [
    {
     "data": {
      "text/html": [
       "<div>\n",
       "<style scoped>\n",
       "    .dataframe tbody tr th:only-of-type {\n",
       "        vertical-align: middle;\n",
       "    }\n",
       "\n",
       "    .dataframe tbody tr th {\n",
       "        vertical-align: top;\n",
       "    }\n",
       "\n",
       "    .dataframe thead th {\n",
       "        text-align: right;\n",
       "    }\n",
       "</style>\n",
       "<table border=\"1\" class=\"dataframe\">\n",
       "  <thead>\n",
       "    <tr style=\"text-align: right;\">\n",
       "      <th></th>\n",
       "      <th>Review</th>\n",
       "      <th>Liked</th>\n",
       "    </tr>\n",
       "  </thead>\n",
       "  <tbody>\n",
       "    <tr>\n",
       "      <th>0</th>\n",
       "      <td>Wow... Loved this place.</td>\n",
       "      <td>1</td>\n",
       "    </tr>\n",
       "    <tr>\n",
       "      <th>1</th>\n",
       "      <td>Crust is not good.</td>\n",
       "      <td>0</td>\n",
       "    </tr>\n",
       "    <tr>\n",
       "      <th>2</th>\n",
       "      <td>Not tasty and the texture was just nasty.</td>\n",
       "      <td>0</td>\n",
       "    </tr>\n",
       "    <tr>\n",
       "      <th>3</th>\n",
       "      <td>Stopped by during the late May bank holiday of...</td>\n",
       "      <td>1</td>\n",
       "    </tr>\n",
       "    <tr>\n",
       "      <th>4</th>\n",
       "      <td>The selection on the menu was great and so wer...</td>\n",
       "      <td>1</td>\n",
       "    </tr>\n",
       "    <tr>\n",
       "      <th>...</th>\n",
       "      <td>...</td>\n",
       "      <td>...</td>\n",
       "    </tr>\n",
       "    <tr>\n",
       "      <th>995</th>\n",
       "      <td>I think food should have flavor and texture an...</td>\n",
       "      <td>0</td>\n",
       "    </tr>\n",
       "    <tr>\n",
       "      <th>996</th>\n",
       "      <td>Appetite instantly gone.</td>\n",
       "      <td>0</td>\n",
       "    </tr>\n",
       "    <tr>\n",
       "      <th>997</th>\n",
       "      <td>Overall I was not impressed and would not go b...</td>\n",
       "      <td>0</td>\n",
       "    </tr>\n",
       "    <tr>\n",
       "      <th>998</th>\n",
       "      <td>The whole experience was underwhelming, and I ...</td>\n",
       "      <td>0</td>\n",
       "    </tr>\n",
       "    <tr>\n",
       "      <th>999</th>\n",
       "      <td>Then, as if I hadn't wasted enough of my life ...</td>\n",
       "      <td>0</td>\n",
       "    </tr>\n",
       "  </tbody>\n",
       "</table>\n",
       "<p>1000 rows × 2 columns</p>\n",
       "</div>"
      ],
      "text/plain": [
       "                                                Review  Liked\n",
       "0                             Wow... Loved this place.      1\n",
       "1                                   Crust is not good.      0\n",
       "2            Not tasty and the texture was just nasty.      0\n",
       "3    Stopped by during the late May bank holiday of...      1\n",
       "4    The selection on the menu was great and so wer...      1\n",
       "..                                                 ...    ...\n",
       "995  I think food should have flavor and texture an...      0\n",
       "996                           Appetite instantly gone.      0\n",
       "997  Overall I was not impressed and would not go b...      0\n",
       "998  The whole experience was underwhelming, and I ...      0\n",
       "999  Then, as if I hadn't wasted enough of my life ...      0\n",
       "\n",
       "[1000 rows x 2 columns]"
      ]
     },
     "execution_count": 2,
     "metadata": {},
     "output_type": "execute_result"
    }
   ],
   "source": [
    "A"
   ]
  },
  {
   "cell_type": "code",
   "execution_count": 3,
   "id": "484d358e",
   "metadata": {},
   "outputs": [],
   "source": [
    "A.drop_duplicates(inplace=True)"
   ]
  },
  {
   "cell_type": "code",
   "execution_count": 4,
   "id": "c0bbdee8",
   "metadata": {},
   "outputs": [],
   "source": [
    "A.reset_index(drop=True, inplace=True)"
   ]
  },
  {
   "cell_type": "code",
   "execution_count": 5,
   "id": "1d02af91",
   "metadata": {},
   "outputs": [
    {
     "data": {
      "text/html": [
       "<div>\n",
       "<style scoped>\n",
       "    .dataframe tbody tr th:only-of-type {\n",
       "        vertical-align: middle;\n",
       "    }\n",
       "\n",
       "    .dataframe tbody tr th {\n",
       "        vertical-align: top;\n",
       "    }\n",
       "\n",
       "    .dataframe thead th {\n",
       "        text-align: right;\n",
       "    }\n",
       "</style>\n",
       "<table border=\"1\" class=\"dataframe\">\n",
       "  <thead>\n",
       "    <tr style=\"text-align: right;\">\n",
       "      <th></th>\n",
       "      <th>Review</th>\n",
       "      <th>Liked</th>\n",
       "    </tr>\n",
       "  </thead>\n",
       "  <tbody>\n",
       "    <tr>\n",
       "      <th>0</th>\n",
       "      <td>Wow... Loved this place.</td>\n",
       "      <td>1</td>\n",
       "    </tr>\n",
       "    <tr>\n",
       "      <th>1</th>\n",
       "      <td>Crust is not good.</td>\n",
       "      <td>0</td>\n",
       "    </tr>\n",
       "    <tr>\n",
       "      <th>2</th>\n",
       "      <td>Not tasty and the texture was just nasty.</td>\n",
       "      <td>0</td>\n",
       "    </tr>\n",
       "    <tr>\n",
       "      <th>3</th>\n",
       "      <td>Stopped by during the late May bank holiday of...</td>\n",
       "      <td>1</td>\n",
       "    </tr>\n",
       "    <tr>\n",
       "      <th>4</th>\n",
       "      <td>The selection on the menu was great and so wer...</td>\n",
       "      <td>1</td>\n",
       "    </tr>\n",
       "    <tr>\n",
       "      <th>...</th>\n",
       "      <td>...</td>\n",
       "      <td>...</td>\n",
       "    </tr>\n",
       "    <tr>\n",
       "      <th>991</th>\n",
       "      <td>I think food should have flavor and texture an...</td>\n",
       "      <td>0</td>\n",
       "    </tr>\n",
       "    <tr>\n",
       "      <th>992</th>\n",
       "      <td>Appetite instantly gone.</td>\n",
       "      <td>0</td>\n",
       "    </tr>\n",
       "    <tr>\n",
       "      <th>993</th>\n",
       "      <td>Overall I was not impressed and would not go b...</td>\n",
       "      <td>0</td>\n",
       "    </tr>\n",
       "    <tr>\n",
       "      <th>994</th>\n",
       "      <td>The whole experience was underwhelming, and I ...</td>\n",
       "      <td>0</td>\n",
       "    </tr>\n",
       "    <tr>\n",
       "      <th>995</th>\n",
       "      <td>Then, as if I hadn't wasted enough of my life ...</td>\n",
       "      <td>0</td>\n",
       "    </tr>\n",
       "  </tbody>\n",
       "</table>\n",
       "<p>996 rows × 2 columns</p>\n",
       "</div>"
      ],
      "text/plain": [
       "                                                Review  Liked\n",
       "0                             Wow... Loved this place.      1\n",
       "1                                   Crust is not good.      0\n",
       "2            Not tasty and the texture was just nasty.      0\n",
       "3    Stopped by during the late May bank holiday of...      1\n",
       "4    The selection on the menu was great and so wer...      1\n",
       "..                                                 ...    ...\n",
       "991  I think food should have flavor and texture an...      0\n",
       "992                           Appetite instantly gone.      0\n",
       "993  Overall I was not impressed and would not go b...      0\n",
       "994  The whole experience was underwhelming, and I ...      0\n",
       "995  Then, as if I hadn't wasted enough of my life ...      0\n",
       "\n",
       "[996 rows x 2 columns]"
      ]
     },
     "execution_count": 5,
     "metadata": {},
     "output_type": "execute_result"
    }
   ],
   "source": [
    "A"
   ]
  },
  {
   "cell_type": "code",
   "execution_count": 6,
   "id": "eaaa558a",
   "metadata": {},
   "outputs": [
    {
     "data": {
      "text/plain": [
       "1    499\n",
       "0    497\n",
       "Name: Liked, dtype: int64"
      ]
     },
     "execution_count": 6,
     "metadata": {},
     "output_type": "execute_result"
    }
   ],
   "source": [
    "A[\"Liked\"].value_counts()"
   ]
  },
  {
   "cell_type": "markdown",
   "id": "cf9c5600",
   "metadata": {},
   "source": [
    "# Cleaning The Data"
   ]
  },
  {
   "cell_type": "code",
   "execution_count": 7,
   "id": "d57ce5b3",
   "metadata": {},
   "outputs": [
    {
     "name": "stderr",
     "output_type": "stream",
     "text": [
      "[nltk_data] Downloading package stopwords to C:\\Users\\Vijay\n",
      "[nltk_data]     Mahajan\\AppData\\Roaming\\nltk_data...\n",
      "[nltk_data]   Package stopwords is already up-to-date!\n"
     ]
    }
   ],
   "source": [
    "from nltk.stem import PorterStemmer\n",
    "from re import sub\n",
    "import nltk\n",
    "nltk.download('stopwords')\n",
    "from nltk.corpus import stopwords"
   ]
  },
  {
   "cell_type": "code",
   "execution_count": 8,
   "id": "0fcccdd2",
   "metadata": {},
   "outputs": [],
   "source": [
    "Q = []\n",
    "ps = PorterStemmer()\n",
    "\n",
    "for i in range(0,A.shape[0]):\n",
    "    message = sub(pattern='[^a-zA-Z]', repl=' ', string=A.Review[i]) #Cleaning special character from the message\n",
    "    message = message.lower() #Converting the entire message into lower case\n",
    "    words = message.split() # Tokenizing the review by words\n",
    "    words = [word for word in words if word not in set(stopwords.words('english'))] #Removing the stop words\n",
    "    words = [ps.stem(word) for word in words] #Stemming the words\n",
    "    message = ' '.join(words) #Joining the stemmed words\n",
    "    Q.append(message) #Building a corpus of messages"
   ]
  },
  {
   "cell_type": "code",
   "execution_count": 9,
   "id": "0dd9a2e5",
   "metadata": {
    "scrolled": true
   },
   "outputs": [
    {
     "data": {
      "text/plain": [
       "['wow love place',\n",
       " 'crust good',\n",
       " 'tasti textur nasti',\n",
       " 'stop late may bank holiday rick steve recommend love',\n",
       " 'select menu great price',\n",
       " 'get angri want damn pho',\n",
       " 'honeslti tast fresh',\n",
       " 'potato like rubber could tell made ahead time kept warmer',\n",
       " 'fri great',\n",
       " 'great touch',\n",
       " 'servic prompt',\n",
       " 'would go back',\n",
       " 'cashier care ever say still end wayyy overpr',\n",
       " 'tri cape cod ravoli chicken cranberri mmmm',\n",
       " 'disgust pretti sure human hair']"
      ]
     },
     "execution_count": 9,
     "metadata": {},
     "output_type": "execute_result"
    }
   ],
   "source": [
    "Q[0:15]"
   ]
  },
  {
   "cell_type": "markdown",
   "id": "6a7b5686",
   "metadata": {},
   "source": [
    "# Define our Y column and temp X column"
   ]
  },
  {
   "cell_type": "code",
   "execution_count": 10,
   "id": "9de58b2b",
   "metadata": {},
   "outputs": [],
   "source": [
    "from sklearn.feature_extraction.text import CountVectorizer\n",
    "cv = CountVectorizer()"
   ]
  },
  {
   "cell_type": "code",
   "execution_count": 11,
   "id": "c819da36",
   "metadata": {},
   "outputs": [],
   "source": [
    "X = cv.fit_transform(Q).toarray()\n",
    "Y = A.Liked"
   ]
  },
  {
   "cell_type": "markdown",
   "id": "b9adb79e",
   "metadata": {},
   "source": [
    "# Split Data"
   ]
  },
  {
   "cell_type": "code",
   "execution_count": 12,
   "id": "ea68791f",
   "metadata": {},
   "outputs": [],
   "source": [
    "from sklearn.model_selection import train_test_split\n",
    "xtrain,xtest,ytrain,ytest = train_test_split(X,Y, test_size=0.2, random_state=21)"
   ]
  },
  {
   "cell_type": "markdown",
   "id": "f2cce6fc",
   "metadata": {},
   "source": [
    "# A NN"
   ]
  },
  {
   "cell_type": "code",
   "execution_count": 13,
   "id": "f5305fc1",
   "metadata": {},
   "outputs": [
    {
     "data": {
      "text/plain": [
       "(796, 1565)"
      ]
     },
     "execution_count": 13,
     "metadata": {},
     "output_type": "execute_result"
    }
   ],
   "source": [
    "xtrain.shape"
   ]
  },
  {
   "cell_type": "code",
   "execution_count": 14,
   "id": "289b113b",
   "metadata": {},
   "outputs": [],
   "source": [
    "from keras.models import Sequential\n",
    "from keras.layers import Dense,Dropout\n",
    "\n",
    "nn = Sequential()\n",
    "nn.add(Dense(1000,input_dim=(1565)))\n",
    "nn.add(Dropout(0.8))\n",
    "nn.add(Dense(1000))\n",
    "nn.add(Dropout(0.8))\n",
    "nn.add(Dense(1,activation=\"sigmoid\"))"
   ]
  },
  {
   "cell_type": "code",
   "execution_count": 15,
   "id": "79dcb832",
   "metadata": {
    "scrolled": true
   },
   "outputs": [
    {
     "name": "stdout",
     "output_type": "stream",
     "text": [
      "Epoch 1/100\n",
      "25/25 [==============================] - 3s 63ms/step - loss: 0.6435 - accuracy: 0.6294\n",
      "Epoch 2/100\n",
      "25/25 [==============================] - 2s 63ms/step - loss: 0.4751 - accuracy: 0.7827\n",
      "Epoch 3/100\n",
      "25/25 [==============================] - 2s 63ms/step - loss: 0.3594 - accuracy: 0.8442\n",
      "Epoch 4/100\n",
      "25/25 [==============================] - 1s 42ms/step - loss: 0.3045 - accuracy: 0.8656\n",
      "Epoch 5/100\n",
      "25/25 [==============================] - 1s 41ms/step - loss: 0.2284 - accuracy: 0.9146\n",
      "Epoch 6/100\n",
      "25/25 [==============================] - 1s 49ms/step - loss: 0.1976 - accuracy: 0.9158\n",
      "Epoch 7/100\n",
      "25/25 [==============================] - 1s 42ms/step - loss: 0.1729 - accuracy: 0.9246\n",
      "Epoch 8/100\n",
      "25/25 [==============================] - 1s 46ms/step - loss: 0.1554 - accuracy: 0.9359\n",
      "Epoch 9/100\n",
      "25/25 [==============================] - 1s 46ms/step - loss: 0.1131 - accuracy: 0.9535\n",
      "Epoch 10/100\n",
      "25/25 [==============================] - 1s 47ms/step - loss: 0.1142 - accuracy: 0.9523\n",
      "Epoch 11/100\n",
      "25/25 [==============================] - 1s 43ms/step - loss: 0.1029 - accuracy: 0.9636\n",
      "Epoch 12/100\n",
      "25/25 [==============================] - 1s 48ms/step - loss: 0.1044 - accuracy: 0.9573\n",
      "Epoch 13/100\n",
      "25/25 [==============================] - 1s 43ms/step - loss: 0.0831 - accuracy: 0.9636\n",
      "Epoch 14/100\n",
      "25/25 [==============================] - 1s 48ms/step - loss: 0.0982 - accuracy: 0.9661\n",
      "Epoch 15/100\n",
      "25/25 [==============================] - 1s 42ms/step - loss: 0.0694 - accuracy: 0.9711\n",
      "Epoch 16/100\n",
      "25/25 [==============================] - 1s 48ms/step - loss: 0.0703 - accuracy: 0.9761\n",
      "Epoch 17/100\n",
      "25/25 [==============================] - 1s 42ms/step - loss: 0.0553 - accuracy: 0.9799\n",
      "Epoch 18/100\n",
      "25/25 [==============================] - 1s 43ms/step - loss: 0.0673 - accuracy: 0.9736\n",
      "Epoch 19/100\n",
      "25/25 [==============================] - 1s 46ms/step - loss: 0.0481 - accuracy: 0.9837\n",
      "Epoch 20/100\n",
      "25/25 [==============================] - 1s 43ms/step - loss: 0.0538 - accuracy: 0.9774\n",
      "Epoch 21/100\n",
      "25/25 [==============================] - 1s 45ms/step - loss: 0.0454 - accuracy: 0.9837\n",
      "Epoch 22/100\n",
      "25/25 [==============================] - 1s 47ms/step - loss: 0.0493 - accuracy: 0.9812\n",
      "Epoch 23/100\n",
      "25/25 [==============================] - 1s 46ms/step - loss: 0.0444 - accuracy: 0.9824\n",
      "Epoch 24/100\n",
      "25/25 [==============================] - 1s 45ms/step - loss: 0.0451 - accuracy: 0.9874\n",
      "Epoch 25/100\n",
      "25/25 [==============================] - 1s 44ms/step - loss: 0.0394 - accuracy: 0.9837\n",
      "Epoch 26/100\n",
      "25/25 [==============================] - 1s 44ms/step - loss: 0.0442 - accuracy: 0.9849\n",
      "Epoch 27/100\n",
      "25/25 [==============================] - 1s 44ms/step - loss: 0.0336 - accuracy: 0.9874\n",
      "Epoch 28/100\n",
      "25/25 [==============================] - 1s 42ms/step - loss: 0.0513 - accuracy: 0.9862\n",
      "Epoch 29/100\n",
      "25/25 [==============================] - 1s 42ms/step - loss: 0.0475 - accuracy: 0.9837\n",
      "Epoch 30/100\n",
      "25/25 [==============================] - 1s 46ms/step - loss: 0.0293 - accuracy: 0.9899\n",
      "Epoch 31/100\n",
      "25/25 [==============================] - 1s 45ms/step - loss: 0.0301 - accuracy: 0.9862\n",
      "Epoch 32/100\n",
      "25/25 [==============================] - 1s 44ms/step - loss: 0.0241 - accuracy: 0.9925\n",
      "Epoch 33/100\n",
      "25/25 [==============================] - 1s 45ms/step - loss: 0.0314 - accuracy: 0.9937\n",
      "Epoch 34/100\n",
      "25/25 [==============================] - 1s 44ms/step - loss: 0.0412 - accuracy: 0.9874\n",
      "Epoch 35/100\n",
      "25/25 [==============================] - 1s 44ms/step - loss: 0.0401 - accuracy: 0.9874\n",
      "Epoch 36/100\n",
      "25/25 [==============================] - 1s 43ms/step - loss: 0.0262 - accuracy: 0.9937\n",
      "Epoch 37/100\n",
      "25/25 [==============================] - 1s 44ms/step - loss: 0.0231 - accuracy: 0.9912\n",
      "Epoch 38/100\n",
      "25/25 [==============================] - 1s 40ms/step - loss: 0.0210 - accuracy: 0.9925\n",
      "Epoch 39/100\n",
      "25/25 [==============================] - 1s 41ms/step - loss: 0.0274 - accuracy: 0.9874\n",
      "Epoch 40/100\n",
      "25/25 [==============================] - 1s 45ms/step - loss: 0.0435 - accuracy: 0.9912\n",
      "Epoch 41/100\n",
      "25/25 [==============================] - 1s 42ms/step - loss: 0.0222 - accuracy: 0.9912\n",
      "Epoch 42/100\n",
      "25/25 [==============================] - 1s 42ms/step - loss: 0.0396 - accuracy: 0.9912\n",
      "Epoch 43/100\n",
      "25/25 [==============================] - 1s 43ms/step - loss: 0.0224 - accuracy: 0.9925\n",
      "Epoch 44/100\n",
      "25/25 [==============================] - 1s 44ms/step - loss: 0.0312 - accuracy: 0.9912\n",
      "Epoch 45/100\n",
      "25/25 [==============================] - 1s 43ms/step - loss: 0.0334 - accuracy: 0.9925\n",
      "Epoch 46/100\n",
      "25/25 [==============================] - 1s 43ms/step - loss: 0.0318 - accuracy: 0.9862\n",
      "Epoch 47/100\n",
      "25/25 [==============================] - 1s 40ms/step - loss: 0.0292 - accuracy: 0.9937\n",
      "Epoch 48/100\n",
      "25/25 [==============================] - 1s 40ms/step - loss: 0.0260 - accuracy: 0.9912\n",
      "Epoch 49/100\n",
      "25/25 [==============================] - 1s 44ms/step - loss: 0.0314 - accuracy: 0.9912\n",
      "Epoch 50/100\n",
      "25/25 [==============================] - 1s 42ms/step - loss: 0.0382 - accuracy: 0.9862\n",
      "Epoch 51/100\n",
      "25/25 [==============================] - 1s 46ms/step - loss: 0.0312 - accuracy: 0.9937\n",
      "Epoch 52/100\n",
      "25/25 [==============================] - 1s 44ms/step - loss: 0.0299 - accuracy: 0.9912\n",
      "Epoch 53/100\n",
      "25/25 [==============================] - 1s 45ms/step - loss: 0.0291 - accuracy: 0.9925\n",
      "Epoch 54/100\n",
      "25/25 [==============================] - 1s 44ms/step - loss: 0.0237 - accuracy: 0.9937\n",
      "Epoch 55/100\n",
      "25/25 [==============================] - 1s 46ms/step - loss: 0.0227 - accuracy: 0.9925\n",
      "Epoch 56/100\n",
      "25/25 [==============================] - 1s 42ms/step - loss: 0.0291 - accuracy: 0.9937\n",
      "Epoch 57/100\n",
      "25/25 [==============================] - 1s 43ms/step - loss: 0.0248 - accuracy: 0.9912\n",
      "Epoch 58/100\n",
      "25/25 [==============================] - 1s 44ms/step - loss: 0.0259 - accuracy: 0.9925\n",
      "Epoch 59/100\n",
      "25/25 [==============================] - 1s 44ms/step - loss: 0.0273 - accuracy: 0.9937\n",
      "Epoch 60/100\n",
      "25/25 [==============================] - 1s 43ms/step - loss: 0.0260 - accuracy: 0.9937\n",
      "Epoch 61/100\n",
      "25/25 [==============================] - 1s 43ms/step - loss: 0.0209 - accuracy: 0.9925\n",
      "Epoch 62/100\n",
      "25/25 [==============================] - 1s 45ms/step - loss: 0.0220 - accuracy: 0.9937\n",
      "Epoch 63/100\n",
      "25/25 [==============================] - 1s 43ms/step - loss: 0.0246 - accuracy: 0.9937\n",
      "Epoch 64/100\n",
      "25/25 [==============================] - 1s 44ms/step - loss: 0.0222 - accuracy: 0.9950\n",
      "Epoch 65/100\n",
      "25/25 [==============================] - 1s 44ms/step - loss: 0.0198 - accuracy: 0.9925\n",
      "Epoch 66/100\n",
      "25/25 [==============================] - 1s 46ms/step - loss: 0.0320 - accuracy: 0.9925\n",
      "Epoch 67/100\n",
      "25/25 [==============================] - 1s 43ms/step - loss: 0.0238 - accuracy: 0.9950\n",
      "Epoch 68/100\n",
      "25/25 [==============================] - 1s 46ms/step - loss: 0.0177 - accuracy: 0.9937\n",
      "Epoch 69/100\n",
      "25/25 [==============================] - 1s 41ms/step - loss: 0.0214 - accuracy: 0.9937\n",
      "Epoch 70/100\n",
      "25/25 [==============================] - 1s 44ms/step - loss: 0.0256 - accuracy: 0.9912\n",
      "Epoch 71/100\n",
      "25/25 [==============================] - 1s 43ms/step - loss: 0.0207 - accuracy: 0.9925\n",
      "Epoch 72/100\n",
      "25/25 [==============================] - 1s 40ms/step - loss: 0.0244 - accuracy: 0.9925\n",
      "Epoch 73/100\n",
      "25/25 [==============================] - 1s 42ms/step - loss: 0.0212 - accuracy: 0.9937\n",
      "Epoch 74/100\n",
      "25/25 [==============================] - 1s 42ms/step - loss: 0.0227 - accuracy: 0.9925\n",
      "Epoch 75/100\n",
      "25/25 [==============================] - 1s 42ms/step - loss: 0.0238 - accuracy: 0.9937\n",
      "Epoch 76/100\n",
      "25/25 [==============================] - 1s 46ms/step - loss: 0.0134 - accuracy: 0.9937\n",
      "Epoch 77/100\n",
      "25/25 [==============================] - 1s 42ms/step - loss: 0.0249 - accuracy: 0.9937\n",
      "Epoch 78/100\n",
      "25/25 [==============================] - 1s 46ms/step - loss: 0.0247 - accuracy: 0.9887\n",
      "Epoch 79/100\n",
      "25/25 [==============================] - 1s 44ms/step - loss: 0.0246 - accuracy: 0.9925\n",
      "Epoch 80/100\n",
      "25/25 [==============================] - 1s 47ms/step - loss: 0.0312 - accuracy: 0.9937\n",
      "Epoch 81/100\n",
      "25/25 [==============================] - 1s 46ms/step - loss: 0.0281 - accuracy: 0.9937\n",
      "Epoch 82/100\n",
      "25/25 [==============================] - 1s 46ms/step - loss: 0.0245 - accuracy: 0.9937\n",
      "Epoch 83/100\n",
      "25/25 [==============================] - 1s 48ms/step - loss: 0.0303 - accuracy: 0.9912\n",
      "Epoch 84/100\n",
      "25/25 [==============================] - 1s 47ms/step - loss: 0.0204 - accuracy: 0.9962\n",
      "Epoch 85/100\n",
      "25/25 [==============================] - 1s 46ms/step - loss: 0.0144 - accuracy: 0.9925\n",
      "Epoch 86/100\n",
      "25/25 [==============================] - 1s 46ms/step - loss: 0.0192 - accuracy: 0.9912\n",
      "Epoch 87/100\n",
      "25/25 [==============================] - 1s 43ms/step - loss: 0.0235 - accuracy: 0.9912\n",
      "Epoch 88/100\n",
      "25/25 [==============================] - 1s 47ms/step - loss: 0.0262 - accuracy: 0.9912\n",
      "Epoch 89/100\n",
      "25/25 [==============================] - 1s 42ms/step - loss: 0.0159 - accuracy: 0.9950\n",
      "Epoch 90/100\n",
      "25/25 [==============================] - 1s 43ms/step - loss: 0.0207 - accuracy: 0.9912\n",
      "Epoch 91/100\n",
      "25/25 [==============================] - 1s 45ms/step - loss: 0.0240 - accuracy: 0.9925\n",
      "Epoch 92/100\n",
      "25/25 [==============================] - 1s 45ms/step - loss: 0.0264 - accuracy: 0.9912\n",
      "Epoch 93/100\n",
      "25/25 [==============================] - 1s 42ms/step - loss: 0.0195 - accuracy: 0.9937\n",
      "Epoch 94/100\n",
      "25/25 [==============================] - 1s 42ms/step - loss: 0.0269 - accuracy: 0.9912\n",
      "Epoch 95/100\n",
      "25/25 [==============================] - 1s 46ms/step - loss: 0.0255 - accuracy: 0.9925\n",
      "Epoch 96/100\n",
      "25/25 [==============================] - 1s 44ms/step - loss: 0.0184 - accuracy: 0.9925\n",
      "Epoch 97/100\n",
      "25/25 [==============================] - 1s 46ms/step - loss: 0.0208 - accuracy: 0.9925\n",
      "Epoch 98/100\n",
      "25/25 [==============================] - 1s 44ms/step - loss: 0.0237 - accuracy: 0.9937\n",
      "Epoch 99/100\n",
      "25/25 [==============================] - 1s 41ms/step - loss: 0.0194 - accuracy: 0.9925\n",
      "Epoch 100/100\n",
      "25/25 [==============================] - 1s 43ms/step - loss: 0.0282 - accuracy: 0.9937\n"
     ]
    },
    {
     "data": {
      "text/plain": [
       "<keras.callbacks.History at 0x2aa495b3d00>"
      ]
     },
     "execution_count": 15,
     "metadata": {},
     "output_type": "execute_result"
    }
   ],
   "source": [
    "nn.compile(loss=\"binary_crossentropy\",metrics=\"accuracy\")\n",
    "nn.fit(xtrain,ytrain,epochs=100)"
   ]
  },
  {
   "cell_type": "code",
   "execution_count": 16,
   "id": "79ee72af",
   "metadata": {},
   "outputs": [],
   "source": [
    "T =[]\n",
    "for i in nn.predict(xtest):\n",
    "    if(i<0.5):\n",
    "        T.append(0)\n",
    "    else:\n",
    "        T.append(1)"
   ]
  },
  {
   "cell_type": "code",
   "execution_count": 17,
   "id": "52493793",
   "metadata": {},
   "outputs": [
    {
     "data": {
      "text/plain": [
       "0.725"
      ]
     },
     "execution_count": 17,
     "metadata": {},
     "output_type": "execute_result"
    }
   ],
   "source": [
    "from sklearn.metrics import accuracy_score\n",
    "accuracy_score(ytest,T)"
   ]
  },
  {
   "cell_type": "code",
   "execution_count": 18,
   "id": "010ff73a",
   "metadata": {},
   "outputs": [],
   "source": [
    "def Review(df):\n",
    "    x = cv.transform([df.lower()]).toarray()\n",
    "    for i in nn.predict(x):\n",
    "        if(i<0.5):\n",
    "            print(\"Ohhh Shit! Negetive Review\")\n",
    "        else:\n",
    "            print(\"Good! Positive Review\")"
   ]
  },
  {
   "cell_type": "code",
   "execution_count": 19,
   "id": "0c42f219",
   "metadata": {},
   "outputs": [],
   "source": [
    "Rev = \"I did not like the soup\""
   ]
  },
  {
   "cell_type": "code",
   "execution_count": 20,
   "id": "58af0554",
   "metadata": {},
   "outputs": [
    {
     "name": "stdout",
     "output_type": "stream",
     "text": [
      "Ohhh Shit! Negetive Review\n"
     ]
    }
   ],
   "source": [
    "Review(Rev)"
   ]
  },
  {
   "cell_type": "code",
   "execution_count": 21,
   "id": "971da948",
   "metadata": {},
   "outputs": [
    {
     "name": "stdout",
     "output_type": "stream",
     "text": [
      "Good! Positive Review\n"
     ]
    }
   ],
   "source": [
    "r = \" Food is teasty\"\n",
    "Review(r)"
   ]
  },
  {
   "cell_type": "code",
   "execution_count": 22,
   "id": "175081ce",
   "metadata": {},
   "outputs": [
    {
     "name": "stdout",
     "output_type": "stream",
     "text": [
      "Good! Positive Review\n"
     ]
    }
   ],
   "source": [
    "r = \"The food was absolutely wonderful, from preparation to presentation, very pleasing.\"\n",
    "Review(r)"
   ]
  },
  {
   "cell_type": "code",
   "execution_count": 23,
   "id": "b9f3db97",
   "metadata": {},
   "outputs": [
    {
     "name": "stdout",
     "output_type": "stream",
     "text": [
      "Good! Positive Review\n"
     ]
    }
   ],
   "source": [
    "r = \"Loved this food\"\n",
    "Review(r)"
   ]
  },
  {
   "cell_type": "code",
   "execution_count": 24,
   "id": "fae94dc1",
   "metadata": {},
   "outputs": [
    {
     "name": "stdout",
     "output_type": "stream",
     "text": [
      "Good! Positive Review\n"
     ]
    }
   ],
   "source": [
    "r = \"Loved\"\n",
    "Review(r)"
   ]
  },
  {
   "cell_type": "code",
   "execution_count": 25,
   "id": "749823ab",
   "metadata": {},
   "outputs": [
    {
     "name": "stdout",
     "output_type": "stream",
     "text": [
      "Ohhh Shit! Negetive Review\n"
     ]
    }
   ],
   "source": [
    "r = \" hate this food\"\n",
    "Review(r)"
   ]
  },
  {
   "cell_type": "code",
   "execution_count": 26,
   "id": "36aaa902",
   "metadata": {},
   "outputs": [
    {
     "name": "stdout",
     "output_type": "stream",
     "text": [
      "Good! Positive Review\n"
     ]
    }
   ],
   "source": [
    "r = \"Restarunt is owesome\"\n",
    "Review(r)"
   ]
  },
  {
   "cell_type": "code",
   "execution_count": null,
   "id": "4a2b7319",
   "metadata": {},
   "outputs": [],
   "source": []
  },
  {
   "cell_type": "code",
   "execution_count": null,
   "id": "912b24d4",
   "metadata": {},
   "outputs": [],
   "source": []
  }
 ],
 "metadata": {
  "kernelspec": {
   "display_name": "Python 3 (ipykernel)",
   "language": "python",
   "name": "python3"
  },
  "language_info": {
   "codemirror_mode": {
    "name": "ipython",
    "version": 3
   },
   "file_extension": ".py",
   "mimetype": "text/x-python",
   "name": "python",
   "nbconvert_exporter": "python",
   "pygments_lexer": "ipython3",
   "version": "3.8.12"
  }
 },
 "nbformat": 4,
 "nbformat_minor": 5
}
